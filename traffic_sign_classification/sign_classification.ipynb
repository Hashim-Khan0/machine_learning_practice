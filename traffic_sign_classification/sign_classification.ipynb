{
 "cells": [
  {
   "cell_type": "code",
   "execution_count": 1,
   "metadata": {},
   "outputs": [],
   "source": [
    "import warnings\n",
    "warnings.filterwarnings('ignore')"
   ]
  },
  {
   "cell_type": "code",
   "execution_count": 2,
   "metadata": {},
   "outputs": [],
   "source": [
    "import pickle\n",
    "import seaborn as sns\n",
    "import pandas as pd\n",
    "import numpy as np\n",
    "import matplotlib.pyplot as plt\n",
    "import random"
   ]
  },
  {
   "cell_type": "code",
   "execution_count": 3,
   "metadata": {},
   "outputs": [],
   "source": [
    "with open(\"./traffic-signs-data/train.p\", mode='rb') as training_data:\n",
    "    train = pickle.load(training_data)\n",
    "with open(\"./traffic-signs-data/valid.p\", mode='rb') as validation_data:\n",
    "    valid = pickle.load(validation_data)\n",
    "with open(\"./traffic-signs-data/test.p\", mode= 'rb') as testing_data:\n",
    "    test = pickle.load(testing_data)"
   ]
  },
  {
   "cell_type": "code",
   "execution_count": 4,
   "metadata": {},
   "outputs": [],
   "source": [
    "X_train, y_train = train['features'], train['labels']\n",
    "X_validation, y_validation = valid['features'], valid['labels']\n",
    "X_test, y_test = test['features'], test['labels']"
   ]
  },
  {
   "cell_type": "code",
   "execution_count": 5,
   "metadata": {},
   "outputs": [
    {
     "data": {
      "text/plain": [
       "(34799, 32, 32, 3)"
      ]
     },
     "execution_count": 5,
     "metadata": {},
     "output_type": "execute_result"
    }
   ],
   "source": [
    "X_train.shape"
   ]
  },
  {
   "cell_type": "code",
   "execution_count": 6,
   "metadata": {},
   "outputs": [
    {
     "data": {
      "text/plain": [
       "(4410, 32, 32, 3)"
      ]
     },
     "execution_count": 6,
     "metadata": {},
     "output_type": "execute_result"
    }
   ],
   "source": [
    "X_validation.shape"
   ]
  },
  {
   "cell_type": "code",
   "execution_count": 7,
   "metadata": {},
   "outputs": [
    {
     "data": {
      "text/plain": [
       "(12630, 32, 32, 3)"
      ]
     },
     "execution_count": 7,
     "metadata": {},
     "output_type": "execute_result"
    }
   ],
   "source": [
    "X_test.shape"
   ]
  },
  {
   "cell_type": "code",
   "execution_count": 8,
   "metadata": {},
   "outputs": [
    {
     "data": {
      "text/plain": [
       "(34799,)"
      ]
     },
     "execution_count": 8,
     "metadata": {},
     "output_type": "execute_result"
    }
   ],
   "source": [
    "y_train.shape"
   ]
  },
  {
   "cell_type": "code",
   "execution_count": 9,
   "metadata": {},
   "outputs": [
    {
     "data": {
      "text/plain": [
       "36"
      ]
     },
     "execution_count": 9,
     "metadata": {},
     "output_type": "execute_result"
    },
    {
     "data": {
      "image/png": "[encoded data removed]",
      "text/plain": [
       "<Figure size 640x480 with 1 Axes>"
      ]
     },
     "metadata": {},
     "output_type": "display_data"
    }
   ],
   "source": [
    "i = 1000\n",
    "plt.imshow(X_train[i])\n",
    "y_train[i]"
   ]
  },
  {
   "cell_type": "code",
   "execution_count": 16,
   "metadata": {},
   "outputs": [
    {
     "data": {
      "text/plain": [
       "31"
      ]
     },
     "execution_count": 16,
     "metadata": {},
     "output_type": "execute_result"
    },
    {
     "data": {
      "image/png": "[encoded data removed]",
      "text/plain": [
       "<Figure size 640x480 with 1 Axes>"
      ]
     },
     "metadata": {},
     "output_type": "display_data"
    }
   ],
   "source": [
    "i = 100\n",
    "plt.imshow(X_validation[i])\n",
    "y_validation[i]"
   ]
  },
  {
   "cell_type": "code",
   "execution_count": 17,
   "metadata": {},
   "outputs": [],
   "source": [
    "from sklearn.utils import shuffle\n",
    "X_train, y_train = shuffle(X_train, y_train)"
   ]
  },
  {
   "cell_type": "code",
   "execution_count": 18,
   "metadata": {},
   "outputs": [],
   "source": [
    "X_train_grey = np.sum(X_train/3, axis=3, keepdims=True)\n",
    "X_test_grey = np.sum(X_test/3, axis = 3, keepdims = True)\n",
    "X_validation_grey = np.sum(X_validation/3, axis = 3, keepdims = True)"
   ]
  },
  {
   "cell_type": "code",
   "execution_count": 19,
   "metadata": {},
   "outputs": [],
   "source": [
    "X_train_grey_norm = (X_train_grey - 128)/128\n",
    "X_test_grey_norm = (X_test_grey - 128)/128\n",
    "X_validation_grey_norm = (X_validation_grey -128)/128"
   ]
  },
  {
   "cell_type": "code",
   "execution_count": 23,
   "metadata": {},
   "outputs": [
    {
     "data": {
      "text/plain": [
       "array([[[[-0.66666667],\n",
       "         [-0.67708333],\n",
       "         [-0.68229167],\n",
       "         ...,\n",
       "         [-0.7265625 ],\n",
       "         [-0.73177083],\n",
       "         [-0.73177083]],\n",
       "\n",
       "        [[-0.4375    ],\n",
       "         [-0.43489583],\n",
       "         [-0.4453125 ],\n",
       "         ...,\n",
       "         [-0.51302083],\n",
       "         [-0.51302083],\n",
       "         [-0.51041667]],\n",
       "\n",
       "        [[-0.52864583],\n",
       "         [-0.52864583],\n",
       "         [-0.53645833],\n",
       "         ...,\n",
       "         [-0.484375  ],\n",
       "         [-0.4765625 ],\n",
       "         [-0.47395833]],\n",
       "\n",
       "        ...,\n",
       "\n",
       "        [[-0.375     ],\n",
       "         [-0.375     ],\n",
       "         [-0.36979167],\n",
       "         ...,\n",
       "         [-0.4140625 ],\n",
       "         [-0.4140625 ],\n",
       "         [-0.40885417]],\n",
       "\n",
       "        [[-0.38020833],\n",
       "         [-0.3828125 ],\n",
       "         [-0.37760417],\n",
       "         ...,\n",
       "         [-0.40104167],\n",
       "         [-0.40885417],\n",
       "         [-0.41145833]],\n",
       "\n",
       "        [[-0.36979167],\n",
       "         [-0.3671875 ],\n",
       "         [-0.375     ],\n",
       "         ...,\n",
       "         [-0.41927083],\n",
       "         [-0.41927083],\n",
       "         [-0.40364583]]],\n",
       "\n",
       "\n",
       "       [[[-0.8828125 ],\n",
       "         [-0.875     ],\n",
       "         [-0.86458333],\n",
       "         ...,\n",
       "         [-0.8984375 ],\n",
       "         [-0.890625  ],\n",
       "         [-0.88802083]],\n",
       "\n",
       "        [[-0.86979167],\n",
       "         [-0.8671875 ],\n",
       "         [-0.86197917],\n",
       "         ...,\n",
       "         [-0.89583333],\n",
       "         [-0.8984375 ],\n",
       "         [-0.89322917]],\n",
       "\n",
       "        [[-0.87239583],\n",
       "         [-0.8671875 ],\n",
       "         [-0.87239583],\n",
       "         ...,\n",
       "         [-0.890625  ],\n",
       "         [-0.90364583],\n",
       "         [-0.90104167]],\n",
       "\n",
       "        ...,\n",
       "\n",
       "        [[-0.87239583],\n",
       "         [-0.8671875 ],\n",
       "         [-0.86197917],\n",
       "         ...,\n",
       "         [-0.859375  ],\n",
       "         [-0.859375  ],\n",
       "         [-0.85677083]],\n",
       "\n",
       "        [[-0.86979167],\n",
       "         [-0.8671875 ],\n",
       "         [-0.859375  ],\n",
       "         ...,\n",
       "         [-0.85416667],\n",
       "         [-0.84895833],\n",
       "         [-0.84895833]],\n",
       "\n",
       "        [[-0.8671875 ],\n",
       "         [-0.86458333],\n",
       "         [-0.859375  ],\n",
       "         ...,\n",
       "         [-0.85416667],\n",
       "         [-0.84895833],\n",
       "         [-0.84895833]]],\n",
       "\n",
       "\n",
       "       [[[-0.54166667],\n",
       "         [-0.5546875 ],\n",
       "         [-0.54427083],\n",
       "         ...,\n",
       "         [-0.74739583],\n",
       "         [-0.76822917],\n",
       "         [-0.75260417]],\n",
       "\n",
       "        [[-0.55729167],\n",
       "         [-0.57291667],\n",
       "         [-0.54166667],\n",
       "         ...,\n",
       "         [-0.73177083],\n",
       "         [-0.77864583],\n",
       "         [-0.7578125 ]],\n",
       "\n",
       "        [[-0.60416667],\n",
       "         [-0.6171875 ],\n",
       "         [-0.60677083],\n",
       "         ...,\n",
       "         [-0.7578125 ],\n",
       "         [-0.7734375 ],\n",
       "         [-0.74479167]],\n",
       "\n",
       "        ...,\n",
       "\n",
       "        [[-0.4375    ],\n",
       "         [-0.44010417],\n",
       "         [-0.44010417],\n",
       "         ...,\n",
       "         [-0.33333333],\n",
       "         [-0.76822917],\n",
       "         [-0.796875  ]],\n",
       "\n",
       "        [[-0.42708333],\n",
       "         [-0.43489583],\n",
       "         [-0.44010417],\n",
       "         ...,\n",
       "         [-0.421875  ],\n",
       "         [-0.765625  ],\n",
       "         [-0.8046875 ]],\n",
       "\n",
       "        [[-0.43229167],\n",
       "         [-0.43489583],\n",
       "         [-0.43229167],\n",
       "         ...,\n",
       "         [-0.46354167],\n",
       "         [-0.77083333],\n",
       "         [-0.796875  ]]],\n",
       "\n",
       "\n",
       "       ...,\n",
       "\n",
       "\n",
       "       [[[-0.38020833],\n",
       "         [-0.33333333],\n",
       "         [-0.28645833],\n",
       "         ...,\n",
       "         [-0.29166667],\n",
       "         [-0.24479167],\n",
       "         [-0.17447917]],\n",
       "\n",
       "        [[-0.3515625 ],\n",
       "         [-0.359375  ],\n",
       "         [-0.20052083],\n",
       "         ...,\n",
       "         [-0.328125  ],\n",
       "         [-0.15625   ],\n",
       "         [-0.1640625 ]],\n",
       "\n",
       "        [[-0.39583333],\n",
       "         [-0.36458333],\n",
       "         [-0.35416667],\n",
       "         ...,\n",
       "         [-0.26822917],\n",
       "         [ 0.03125   ],\n",
       "         [ 0.06770833]],\n",
       "\n",
       "        ...,\n",
       "\n",
       "        [[-0.6640625 ],\n",
       "         [-0.515625  ],\n",
       "         [-0.26822917],\n",
       "         ...,\n",
       "         [-0.49479167],\n",
       "         [-0.54427083],\n",
       "         [-0.58333333]],\n",
       "\n",
       "        [[-0.55989583],\n",
       "         [-0.43489583],\n",
       "         [-0.2890625 ],\n",
       "         ...,\n",
       "         [-0.56510417],\n",
       "         [-0.60677083],\n",
       "         [-0.59635417]],\n",
       "\n",
       "        [[-0.52604167],\n",
       "         [-0.47916667],\n",
       "         [-0.515625  ],\n",
       "         ...,\n",
       "         [-0.53645833],\n",
       "         [-0.61979167],\n",
       "         [-0.63541667]]],\n",
       "\n",
       "\n",
       "       [[[-0.55989583],\n",
       "         [-0.3046875 ],\n",
       "         [-0.35416667],\n",
       "         ...,\n",
       "         [-0.6640625 ],\n",
       "         [-0.64322917],\n",
       "         [-0.59895833]],\n",
       "\n",
       "        [[-0.65625   ],\n",
       "         [-0.33072917],\n",
       "         [-0.33072917],\n",
       "         ...,\n",
       "         [-0.6484375 ],\n",
       "         [-0.65364583],\n",
       "         [-0.63020833]],\n",
       "\n",
       "        [[-0.65625   ],\n",
       "         [-0.59635417],\n",
       "         [-0.63541667],\n",
       "         ...,\n",
       "         [-0.64322917],\n",
       "         [-0.65625   ],\n",
       "         [-0.59895833]],\n",
       "\n",
       "        ...,\n",
       "\n",
       "        [[-0.61197917],\n",
       "         [-0.703125  ],\n",
       "         [-0.734375  ],\n",
       "         ...,\n",
       "         [-0.67708333],\n",
       "         [-0.5703125 ],\n",
       "         [-0.69791667]],\n",
       "\n",
       "        [[-0.72395833],\n",
       "         [-0.74739583],\n",
       "         [-0.76302083],\n",
       "         ...,\n",
       "         [-0.65104167],\n",
       "         [-0.54947917],\n",
       "         [-0.6875    ]],\n",
       "\n",
       "        [[-0.71354167],\n",
       "         [-0.76041667],\n",
       "         [-0.77083333],\n",
       "         ...,\n",
       "         [-0.671875  ],\n",
       "         [-0.6484375 ],\n",
       "         [-0.71354167]]],\n",
       "\n",
       "\n",
       "       [[[-0.27083333],\n",
       "         [-0.65364583],\n",
       "         [-0.69791667],\n",
       "         ...,\n",
       "         [-0.703125  ],\n",
       "         [-0.71354167],\n",
       "         [-0.72135417]],\n",
       "\n",
       "        [[-0.578125  ],\n",
       "         [-0.70833333],\n",
       "         [-0.703125  ],\n",
       "         ...,\n",
       "         [-0.71614583],\n",
       "         [-0.72395833],\n",
       "         [-0.71614583]],\n",
       "\n",
       "        [[-0.66145833],\n",
       "         [-0.70833333],\n",
       "         [-0.703125  ],\n",
       "         ...,\n",
       "         [-0.70052083],\n",
       "         [-0.7109375 ],\n",
       "         [-0.71614583]],\n",
       "\n",
       "        ...,\n",
       "\n",
       "        [[-0.671875  ],\n",
       "         [-0.68489583],\n",
       "         [-0.68489583],\n",
       "         ...,\n",
       "         [-0.59375   ],\n",
       "         [-0.58854167],\n",
       "         [-0.62760417]],\n",
       "\n",
       "        [[-0.67447917],\n",
       "         [-0.6953125 ],\n",
       "         [-0.671875  ],\n",
       "         ...,\n",
       "         [-0.51302083],\n",
       "         [-0.578125  ],\n",
       "         [-0.65625   ]],\n",
       "\n",
       "        [[-0.671875  ],\n",
       "         [-0.6796875 ],\n",
       "         [-0.65625   ],\n",
       "         ...,\n",
       "         [-0.50520833],\n",
       "         [-0.64583333],\n",
       "         [-0.6875    ]]]])"
      ]
     },
     "execution_count": 23,
     "metadata": {},
     "output_type": "execute_result"
    }
   ],
   "source": [
    "X_train_grey_norm"
   ]
  },
  {
   "cell_type": "code",
   "execution_count": 33,
   "metadata": {},
   "outputs": [
    {
     "data": {
      "text/plain": [
       "<matplotlib.image.AxesImage at 0x13e79c5d0>"
      ]
     },
     "execution_count": 33,
     "metadata": {},
     "output_type": "execute_result"
    },
    {
     "data": {
      "image/png": "[encoded data removed]",
      "text/plain": [
       "<Figure size 640x480 with 1 Axes>"
      ]
     },
     "metadata": {},
     "output_type": "display_data"
    },
    {
     "data": {
      "image/png": "[encoded data removed]",
      "text/plain": [
       "<Figure size 640x480 with 1 Axes>"
      ]
     },
     "metadata": {},
     "output_type": "display_data"
    }
   ],
   "source": [
    "i = 610\n",
    "plt.imshow(X_train_grey[i].squeeze(), cmap='grey')\n",
    "plt.figure()\n",
    "plt.imshow(X_train[i])"
   ]
  },
  {
   "cell_type": "code",
   "execution_count": 24,
   "metadata": {},
   "outputs": [],
   "source": [
    "from keras.models import Sequential\n",
    "from keras.layers import Conv2D, MaxPooling2D, AveragePooling2D, Dense, Flatten, Dropout\n",
    "from keras.optimizers.legacy import Adam\n",
    "from keras.callbacks import TensorBoard\n",
    "\n",
    "from sklearn.model_selection import train_test_split"
   ]
  },
  {
   "cell_type": "code",
   "execution_count": 25,
   "metadata": {},
   "outputs": [],
   "source": [
    "image_shape = X_train_grey[i].shape"
   ]
  },
  {
   "cell_type": "code",
   "execution_count": 27,
   "metadata": {},
   "outputs": [],
   "source": [
    "cnn_model = Sequential()\n",
    "\n",
    "cnn_model.add(Conv2D(filters = 6, kernel_size=(5,5), activation='relu', input_shape = (32, 32, 1)))\n",
    "cnn_model.add(AveragePooling2D())\n",
    "\n",
    "cnn_model.add(Conv2D(filters=16, kernel_size=(5,5), activation='relu'))\n",
    "cnn_model.add(AveragePooling2D())\n",
    "\n",
    "cnn_model.add(Flatten())\n",
    "\n",
    "cnn_model.add(Dense(units=120, activation='relu'))\n",
    "\n",
    "cnn_model.add(Dense(units=84, activation='relu'))\n",
    "\n",
    "cnn_model.add(Dense(units=43, activation='softmax'))\n",
    "\n"
   ]
  },
  {
   "cell_type": "code",
   "execution_count": 28,
   "metadata": {},
   "outputs": [],
   "source": [
    "cnn_model.compile(loss = 'sparse_categorical_crossentropy', optimizer = Adam(learning_rate=0.001), metrics = ['accuracy'])"
   ]
  },
  {
   "cell_type": "code",
   "execution_count": null,
   "metadata": {},
   "outputs": [],
   "source": []
  },
  {
   "cell_type": "code",
   "execution_count": 29,
   "metadata": {},
   "outputs": [
    {
     "name": "stdout",
     "output_type": "stream",
     "text": [
      "Epoch 1/50\n",
      "70/70 [==============================] - 5s 68ms/step - loss: 3.1569 - accuracy: 0.1829 - val_loss: 2.7071 - val_accuracy: 0.2884\n",
      "Epoch 2/50\n",
      "70/70 [==============================] - 4s 63ms/step - loss: 1.6193 - accuracy: 0.5465 - val_loss: 1.4776 - val_accuracy: 0.5812\n",
      "Epoch 3/50\n",
      "70/70 [==============================] - 4s 63ms/step - loss: 0.9211 - accuracy: 0.7370 - val_loss: 1.1367 - val_accuracy: 0.6610\n",
      "Epoch 4/50\n",
      "70/70 [==============================] - 4s 63ms/step - loss: 0.6781 - accuracy: 0.8061 - val_loss: 0.9019 - val_accuracy: 0.7376\n",
      "Epoch 5/50\n",
      "70/70 [==============================] - 4s 64ms/step - loss: 0.5370 - accuracy: 0.8522 - val_loss: 0.8436 - val_accuracy: 0.7615\n",
      "Epoch 6/50\n",
      "70/70 [==============================] - 5s 66ms/step - loss: 0.4431 - accuracy: 0.8815 - val_loss: 0.8444 - val_accuracy: 0.7644\n",
      "Epoch 7/50\n",
      "70/70 [==============================] - 5s 66ms/step - loss: 0.3927 - accuracy: 0.8943 - val_loss: 0.7504 - val_accuracy: 0.7943\n",
      "Epoch 8/50\n",
      "70/70 [==============================] - 4s 64ms/step - loss: 0.3406 - accuracy: 0.9101 - val_loss: 0.7177 - val_accuracy: 0.8125\n",
      "Epoch 9/50\n",
      "70/70 [==============================] - 4s 64ms/step - loss: 0.3026 - accuracy: 0.9225 - val_loss: 0.7336 - val_accuracy: 0.7984\n",
      "Epoch 10/50\n",
      "70/70 [==============================] - 4s 64ms/step - loss: 0.2765 - accuracy: 0.9266 - val_loss: 0.6683 - val_accuracy: 0.8204\n",
      "Epoch 11/50\n",
      "70/70 [==============================] - 4s 64ms/step - loss: 0.2588 - accuracy: 0.9322 - val_loss: 0.6788 - val_accuracy: 0.8163\n",
      "Epoch 12/50\n",
      "70/70 [==============================] - 5s 68ms/step - loss: 0.2295 - accuracy: 0.9420 - val_loss: 0.6496 - val_accuracy: 0.8315\n",
      "Epoch 13/50\n",
      "70/70 [==============================] - 5s 65ms/step - loss: 0.2084 - accuracy: 0.9470 - val_loss: 0.6682 - val_accuracy: 0.8315\n",
      "Epoch 14/50\n",
      "70/70 [==============================] - 5s 69ms/step - loss: 0.1959 - accuracy: 0.9494 - val_loss: 0.6361 - val_accuracy: 0.8338\n",
      "Epoch 15/50\n",
      "70/70 [==============================] - 5s 65ms/step - loss: 0.1800 - accuracy: 0.9547 - val_loss: 0.6973 - val_accuracy: 0.8206\n",
      "Epoch 16/50\n",
      "70/70 [==============================] - 5s 65ms/step - loss: 0.1667 - accuracy: 0.9577 - val_loss: 0.6487 - val_accuracy: 0.8245\n",
      "Epoch 17/50\n",
      "70/70 [==============================] - 5s 65ms/step - loss: 0.1558 - accuracy: 0.9603 - val_loss: 0.5869 - val_accuracy: 0.8533\n",
      "Epoch 18/50\n",
      "70/70 [==============================] - 5s 66ms/step - loss: 0.1440 - accuracy: 0.9629 - val_loss: 0.6572 - val_accuracy: 0.8331\n",
      "Epoch 19/50\n",
      "70/70 [==============================] - 5s 65ms/step - loss: 0.1346 - accuracy: 0.9654 - val_loss: 0.6994 - val_accuracy: 0.8256\n",
      "Epoch 20/50\n",
      "70/70 [==============================] - 5s 65ms/step - loss: 0.1263 - accuracy: 0.9686 - val_loss: 0.6961 - val_accuracy: 0.8322\n",
      "Epoch 21/50\n",
      "70/70 [==============================] - 5s 67ms/step - loss: 0.1139 - accuracy: 0.9719 - val_loss: 0.6694 - val_accuracy: 0.8338\n",
      "Epoch 22/50\n",
      "70/70 [==============================] - 5s 65ms/step - loss: 0.1084 - accuracy: 0.9721 - val_loss: 0.6823 - val_accuracy: 0.8358\n",
      "Epoch 23/50\n",
      "70/70 [==============================] - 5s 67ms/step - loss: 0.0986 - accuracy: 0.9755 - val_loss: 0.6894 - val_accuracy: 0.8363\n",
      "Epoch 24/50\n",
      "70/70 [==============================] - 5s 65ms/step - loss: 0.0975 - accuracy: 0.9761 - val_loss: 0.6992 - val_accuracy: 0.8379\n",
      "Epoch 25/50\n",
      "70/70 [==============================] - 5s 65ms/step - loss: 0.0884 - accuracy: 0.9775 - val_loss: 0.6507 - val_accuracy: 0.8488\n",
      "Epoch 26/50\n",
      "70/70 [==============================] - 5s 67ms/step - loss: 0.0880 - accuracy: 0.9781 - val_loss: 0.6537 - val_accuracy: 0.8522\n",
      "Epoch 27/50\n",
      "70/70 [==============================] - 5s 65ms/step - loss: 0.0782 - accuracy: 0.9806 - val_loss: 0.6663 - val_accuracy: 0.8499\n",
      "Epoch 28/50\n",
      "70/70 [==============================] - 5s 66ms/step - loss: 0.0714 - accuracy: 0.9831 - val_loss: 0.6874 - val_accuracy: 0.8438\n",
      "Epoch 29/50\n",
      "70/70 [==============================] - 5s 69ms/step - loss: 0.0689 - accuracy: 0.9829 - val_loss: 0.6893 - val_accuracy: 0.8454\n",
      "Epoch 30/50\n",
      "70/70 [==============================] - 5s 64ms/step - loss: 0.0614 - accuracy: 0.9855 - val_loss: 0.6920 - val_accuracy: 0.8406\n",
      "Epoch 31/50\n",
      "70/70 [==============================] - 5s 64ms/step - loss: 0.0592 - accuracy: 0.9851 - val_loss: 0.7414 - val_accuracy: 0.8435\n",
      "Epoch 32/50\n",
      "70/70 [==============================] - 5s 65ms/step - loss: 0.0574 - accuracy: 0.9862 - val_loss: 0.7136 - val_accuracy: 0.8478\n",
      "Epoch 33/50\n",
      "70/70 [==============================] - 5s 65ms/step - loss: 0.0539 - accuracy: 0.9868 - val_loss: 0.6815 - val_accuracy: 0.8499\n",
      "Epoch 34/50\n",
      "70/70 [==============================] - 5s 64ms/step - loss: 0.0518 - accuracy: 0.9870 - val_loss: 0.7465 - val_accuracy: 0.8376\n",
      "Epoch 35/50\n",
      "70/70 [==============================] - 5s 64ms/step - loss: 0.0493 - accuracy: 0.9879 - val_loss: 0.7244 - val_accuracy: 0.8494\n",
      "Epoch 36/50\n",
      "70/70 [==============================] - 5s 64ms/step - loss: 0.0504 - accuracy: 0.9871 - val_loss: 0.7920 - val_accuracy: 0.8447\n",
      "Epoch 37/50\n",
      "70/70 [==============================] - 5s 65ms/step - loss: 0.0443 - accuracy: 0.9891 - val_loss: 0.8002 - val_accuracy: 0.8363\n",
      "Epoch 38/50\n",
      "70/70 [==============================] - 5s 66ms/step - loss: 0.0437 - accuracy: 0.9888 - val_loss: 0.8052 - val_accuracy: 0.8442\n",
      "Epoch 39/50\n",
      "70/70 [==============================] - 5s 64ms/step - loss: 0.0395 - accuracy: 0.9895 - val_loss: 0.7900 - val_accuracy: 0.8494\n",
      "Epoch 40/50\n",
      "70/70 [==============================] - 5s 65ms/step - loss: 0.0404 - accuracy: 0.9895 - val_loss: 0.7850 - val_accuracy: 0.8571\n",
      "Epoch 41/50\n",
      "70/70 [==============================] - 5s 65ms/step - loss: 0.0341 - accuracy: 0.9916 - val_loss: 0.7544 - val_accuracy: 0.8587\n",
      "Epoch 42/50\n",
      "70/70 [==============================] - 5s 65ms/step - loss: 0.0368 - accuracy: 0.9906 - val_loss: 0.7372 - val_accuracy: 0.8578\n",
      "Epoch 43/50\n",
      "70/70 [==============================] - 5s 65ms/step - loss: 0.0329 - accuracy: 0.9921 - val_loss: 0.7970 - val_accuracy: 0.8549\n",
      "Epoch 44/50\n",
      "70/70 [==============================] - 5s 65ms/step - loss: 0.0371 - accuracy: 0.9905 - val_loss: 0.7573 - val_accuracy: 0.8587\n",
      "Epoch 45/50\n",
      "70/70 [==============================] - 5s 65ms/step - loss: 0.0296 - accuracy: 0.9927 - val_loss: 0.8160 - val_accuracy: 0.8485\n",
      "Epoch 46/50\n",
      "70/70 [==============================] - 5s 65ms/step - loss: 0.0233 - accuracy: 0.9947 - val_loss: 0.8670 - val_accuracy: 0.8526\n",
      "Epoch 47/50\n",
      "70/70 [==============================] - 5s 65ms/step - loss: 0.0245 - accuracy: 0.9938 - val_loss: 0.7761 - val_accuracy: 0.8658\n",
      "Epoch 48/50\n",
      "70/70 [==============================] - 5s 66ms/step - loss: 0.0221 - accuracy: 0.9943 - val_loss: 0.7958 - val_accuracy: 0.8642\n",
      "Epoch 49/50\n",
      "70/70 [==============================] - 5s 65ms/step - loss: 0.0237 - accuracy: 0.9937 - val_loss: 0.9360 - val_accuracy: 0.8347\n",
      "Epoch 50/50\n",
      "70/70 [==============================] - 5s 65ms/step - loss: 0.0328 - accuracy: 0.9897 - val_loss: 0.9329 - val_accuracy: 0.8483\n"
     ]
    }
   ],
   "source": [
    "history = cnn_model.fit(X_train_grey_norm,\n",
    "                        y_train,\n",
    "                        batch_size= 500,\n",
    "                        epochs= 50,\n",
    "                        verbose=1,\n",
    "                        validation_data= (X_validation_grey_norm, y_validation))"
   ]
  },
  {
   "cell_type": "code",
   "execution_count": null,
   "metadata": {},
   "outputs": [],
   "source": []
  }
 ],
 "metadata": {
  "kernelspec": {
   "display_name": "scrolls",
   "language": "python",
   "name": "python3"
  },
  "language_info": {
   "codemirror_mode": {
    "name": "ipython",
    "version": 3
   },
   "file_extension": ".py",
   "mimetype": "text/x-python",
   "name": "python",
   "nbconvert_exporter": "python",
   "pygments_lexer": "ipython3",
   "version": "3.11.4"
  },
  "orig_nbformat": 4
 },
 "nbformat": 4,
 "nbformat_minor": 2
}
